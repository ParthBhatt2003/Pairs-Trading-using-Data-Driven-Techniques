{
 "cells": [
  {
   "cell_type": "code",
   "execution_count": 11,
   "id": "a1fa3aed",
   "metadata": {},
   "outputs": [],
   "source": [
    "import math\n",
    "def P(n):\n",
    "    return int(n*(3*n-1)/2)"
   ]
  },
  {
   "cell_type": "code",
   "execution_count": 2,
   "id": "8d5e1d1f",
   "metadata": {},
   "outputs": [],
   "source": [
    "def invP(y):\n",
    "    return float.is_integer((0.5 + math.sqrt(6*y + 1/4))/3)"
   ]
  },
  {
   "cell_type": "code",
   "execution_count": 3,
   "id": "87056739",
   "metadata": {},
   "outputs": [
    {
     "name": "stdout",
     "output_type": "stream",
     "text": [
      "2167 1020\n"
     ]
    }
   ],
   "source": [
    "i = 2\n",
    "while True:\n",
    "    chk = 0\n",
    "    if i%5000 == 0:\n",
    "        print(i)\n",
    "    for j in range(2, i):\n",
    "        if invP(P(i) + P(j)) and invP(P(i) - P(j)):\n",
    "            print(i, j)\n",
    "            chk = 1\n",
    "            break\n",
    "    if chk:\n",
    "        break\n",
    "    i += 1"
   ]
  },
  {
   "cell_type": "code",
   "execution_count": 6,
   "id": "b4561de3",
   "metadata": {},
   "outputs": [],
   "source": [
    "def invAP(y):\n",
    "    return (0.5 + math.sqrt(6*y + 1/4))/3"
   ]
  },
  {
   "cell_type": "code",
   "execution_count": 7,
   "id": "b66fa134",
   "metadata": {},
   "outputs": [
    {
     "data": {
      "text/plain": [
       "5482660.0"
      ]
     },
     "execution_count": 7,
     "metadata": {},
     "output_type": "execute_result"
    }
   ],
   "source": [
    "P(i) - P(j)"
   ]
  },
  {
   "cell_type": "code",
   "execution_count": 8,
   "id": "2722ac38",
   "metadata": {},
   "outputs": [
    {
     "data": {
      "text/plain": [
       "7042750.0"
      ]
     },
     "execution_count": 8,
     "metadata": {},
     "output_type": "execute_result"
    }
   ],
   "source": [
    "P(2167)"
   ]
  },
  {
   "cell_type": "code",
   "execution_count": 12,
   "id": "3b602e95",
   "metadata": {},
   "outputs": [
    {
     "data": {
      "text/plain": [
       "1560090"
      ]
     },
     "execution_count": 12,
     "metadata": {},
     "output_type": "execute_result"
    }
   ],
   "source": [
    "P(1020)"
   ]
  },
  {
   "cell_type": "code",
   "execution_count": 13,
   "id": "0b5a6e27",
   "metadata": {},
   "outputs": [
    {
     "data": {
      "text/plain": [
       "2167"
      ]
     },
     "execution_count": 13,
     "metadata": {},
     "output_type": "execute_result"
    }
   ],
   "source": [
    "P(invAP(2167))"
   ]
  },
  {
   "cell_type": "code",
   "execution_count": 17,
   "id": "77ddcdea",
   "metadata": {},
   "outputs": [
    {
     "data": {
      "text/plain": [
       "1912.0"
      ]
     },
     "execution_count": 17,
     "metadata": {},
     "output_type": "execute_result"
    }
   ],
   "source": [
    "invAP(P(2167) - P(1020))"
   ]
  },
  {
   "cell_type": "code",
   "execution_count": null,
   "id": "671e6dcb",
   "metadata": {},
   "outputs": [],
   "source": []
  }
 ],
 "metadata": {
  "kernelspec": {
   "display_name": "Python 3",
   "language": "python",
   "name": "python3"
  },
  "language_info": {
   "codemirror_mode": {
    "name": "ipython",
    "version": 3
   },
   "file_extension": ".py",
   "mimetype": "text/x-python",
   "name": "python",
   "nbconvert_exporter": "python",
   "pygments_lexer": "ipython3",
   "version": "3.8.8"
  }
 },
 "nbformat": 4,
 "nbformat_minor": 5
}
