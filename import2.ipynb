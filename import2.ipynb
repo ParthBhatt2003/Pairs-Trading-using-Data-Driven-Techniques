{
 "cells": [
  {
   "cell_type": "code",
   "execution_count": 130,
   "id": "07c8d2e7",
   "metadata": {},
   "outputs": [],
   "source": [
    "from sympy import solve, Poly, Eq, Function, exp\n",
    "from sympy.abc import x, y, z, a, b"
   ]
  },
  {
   "cell_type": "code",
   "execution_count": 131,
   "id": "126b58e7",
   "metadata": {},
   "outputs": [],
   "source": [
    "f = Function('f')\n",
    "r = 1"
   ]
  },
  {
   "cell_type": "code",
   "execution_count": 132,
   "id": "275d2ca8",
   "metadata": {},
   "outputs": [],
   "source": [
    "ans = solve([(x-r)**2+(y-r)**2-r**2, 3*y-x], dict = True)"
   ]
  },
  {
   "cell_type": "code",
   "execution_count": 133,
   "id": "3b9fb759",
   "metadata": {},
   "outputs": [
    {
     "data": {
      "text/plain": [
       "(0.46515307716504656, 0.1550510257216822)"
      ]
     },
     "execution_count": 133,
     "metadata": {},
     "output_type": "execute_result"
    }
   ],
   "source": [
    "float(ans[0][x]), float(ans[0][y])"
   ]
  },
  {
   "cell_type": "code",
   "execution_count": 134,
   "id": "75eba746",
   "metadata": {},
   "outputs": [],
   "source": [
    "from scipy.integrate import quad\n",
    "import math\n",
    "def f(x):\n",
    "    return r - math.sqrt(r**2-(x-r)**2) \n",
    "i, _ = quad(f, 0, float(ans[0][x]))"
   ]
  },
  {
   "cell_type": "code",
   "execution_count": 135,
   "id": "0a82b885",
   "metadata": {},
   "outputs": [],
   "source": [
    "A = i - pow(float(ans[0][x]), 2)/6"
   ]
  },
  {
   "cell_type": "code",
   "execution_count": 136,
   "id": "6dd49ff1",
   "metadata": {},
   "outputs": [],
   "source": [
    "j, _ = quad(f, float(ans[0][x]), r)\n",
    "B = j + pow(float(ans[0][x]), 2)/6"
   ]
  },
  {
   "cell_type": "code",
   "execution_count": 137,
   "id": "10f5b1df",
   "metadata": {},
   "outputs": [
    {
     "data": {
      "text/plain": [
       "0.7074317229790871"
      ]
     },
     "execution_count": 137,
     "metadata": {},
     "output_type": "execute_result"
    }
   ],
   "source": [
    "A/(A+B)"
   ]
  },
  {
   "cell_type": "code",
   "execution_count": null,
   "id": "a86711a2",
   "metadata": {},
   "outputs": [],
   "source": []
  }
 ],
 "metadata": {
  "kernelspec": {
   "display_name": "Python 3",
   "language": "python",
   "name": "python3"
  },
  "language_info": {
   "codemirror_mode": {
    "name": "ipython",
    "version": 3
   },
   "file_extension": ".py",
   "mimetype": "text/x-python",
   "name": "python",
   "nbconvert_exporter": "python",
   "pygments_lexer": "ipython3",
   "version": "3.8.8"
  }
 },
 "nbformat": 4,
 "nbformat_minor": 5
}
