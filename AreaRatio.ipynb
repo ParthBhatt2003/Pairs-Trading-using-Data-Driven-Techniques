{
 "cells": [
  {
   "cell_type": "code",
   "execution_count": 1,
   "id": "8f7fbb15",
   "metadata": {},
   "outputs": [],
   "source": [
    "from sympy import solve, Poly, Eq, Function, exp\n",
    "from sympy.abc import x, y, z\n",
    "from scipy.integrate import quad\n",
    "import math"
   ]
  },
  {
   "cell_type": "code",
   "execution_count": 2,
   "id": "05648570",
   "metadata": {},
   "outputs": [],
   "source": [
    "r = 10000000000000\n",
    "#r is huge to get better precision"
   ]
  },
  {
   "cell_type": "code",
   "execution_count": 3,
   "id": "dc71aee9",
   "metadata": {},
   "outputs": [],
   "source": [
    "def f(x):\n",
    "    return r - math.sqrt(r**2-(x-r)**2) "
   ]
  },
  {
   "cell_type": "code",
   "execution_count": 4,
   "id": "bfe0af63",
   "metadata": {},
   "outputs": [],
   "source": [
    "def AreaRatio(n):\n",
    "    def g(x):\n",
    "        return x/n\n",
    "    Px = solve([(x-r)**2+(y-r)**2-r**2, n*y-x], dict = True)[0][x]\n",
    "    i, _ = quad(f, 0, Px)\n",
    "    j, _ = quad(f, Px, r)\n",
    "    i1, _ = quad(g, 0, Px)\n",
    "    B = j + i1\n",
    "    A = i - i1\n",
    "    return round(100*A/(A+B), 10)"
   ]
  },
  {
   "cell_type": "code",
   "execution_count": 22,
   "id": "ecb0e6b8",
   "metadata": {},
   "outputs": [
    {
     "name": "stdout",
     "output_type": "stream",
     "text": [
      "23012\n"
     ]
    }
   ],
   "source": [
    "i = 1\n",
    "while True:\n",
    "    if AreaRatio(i)<99.99:\n",
    "        i += 100\n",
    "    else:\n",
    "        break\n",
    "while True:\n",
    "    if AreaRatio(i)>99.99:\n",
    "        i -= 1\n",
    "    else:\n",
    "        break\n",
    "print(i+1)"
   ]
  },
  {
   "cell_type": "code",
   "execution_count": 17,
   "id": "3c320045",
   "metadata": {},
   "outputs": [
    {
     "data": {
      "text/plain": [
       "99.990000274"
      ]
     },
     "execution_count": 17,
     "metadata": {},
     "output_type": "execute_result"
    }
   ],
   "source": [
    "AreaRatio(23012)"
   ]
  },
  {
   "cell_type": "code",
   "execution_count": null,
   "id": "45d5aecd",
   "metadata": {},
   "outputs": [],
   "source": []
  }
 ],
 "metadata": {
  "kernelspec": {
   "display_name": "Python 3",
   "language": "python",
   "name": "python3"
  },
  "language_info": {
   "codemirror_mode": {
    "name": "ipython",
    "version": 3
   },
   "file_extension": ".py",
   "mimetype": "text/x-python",
   "name": "python",
   "nbconvert_exporter": "python",
   "pygments_lexer": "ipython3",
   "version": "3.8.8"
  }
 },
 "nbformat": 4,
 "nbformat_minor": 5
}
