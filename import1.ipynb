{
 "cells": [
  {
   "cell_type": "code",
   "execution_count": null,
   "id": "a20cb095",
   "metadata": {},
   "outputs": [],
   "source": [
    "\n",
    "# importing required modules\n",
    "import PyPDF2\n",
    " \n",
    "# creating a pdf file object\n",
    "pdfFileObj = open('example.pdf', 'rb')\n",
    " \n",
    "# creating a pdf reader object\n",
    "pdfReader = PyPDF2.PdfFileReader(pdfFileObj)\n",
    " \n",
    "# printing number of pages in pdf file\n",
    "print(pdfReader.numPages)\n",
    " \n",
    "# creating a page object\n",
    "pageObj = pdfReader.getPage(0)\n",
    " \n",
    "# extracting text from page\n",
    "print(pageObj.extractText())\n",
    " \n",
    "# closing the pdf file object\n",
    "pdfFileObj.close()  "
   ]
  },
  {
   "cell_type": "code",
   "execution_count": null,
   "id": "de486742",
   "metadata": {},
   "outputs": [],
   "source": []
  }
 ],
 "metadata": {
  "kernelspec": {
   "display_name": "Python 3",
   "language": "python",
   "name": "python3"
  },
  "language_info": {
   "codemirror_mode": {
    "name": "ipython",
    "version": 3
   },
   "file_extension": ".py",
   "mimetype": "text/x-python",
   "name": "python",
   "nbconvert_exporter": "python",
   "pygments_lexer": "ipython3",
   "version": "3.8.8"
  }
 },
 "nbformat": 4,
 "nbformat_minor": 5
}
